{
 "cells": [
  {
   "cell_type": "markdown",
   "id": "3b4d702a",
   "metadata": {},
   "source": [
    "# 1. Imports"
   ]
  },
  {
   "cell_type": "code",
   "execution_count": 25,
   "id": "2fd65788",
   "metadata": {},
   "outputs": [],
   "source": [
    "import pandas as pd"
   ]
  },
  {
   "cell_type": "markdown",
   "id": "fbffbb24",
   "metadata": {},
   "source": [
    "# 2. Load dataset"
   ]
  },
  {
   "cell_type": "code",
   "execution_count": 26,
   "id": "539d1311",
   "metadata": {},
   "outputs": [
    {
     "name": "stdout",
     "output_type": "stream",
     "text": [
      "<class 'pandas.core.frame.DataFrame'>\n",
      "RangeIndex: 92000 entries, 0 to 91999\n",
      "Data columns (total 7 columns):\n",
      " #   Column        Non-Null Count  Dtype  \n",
      "---  ------        --------------  -----  \n",
      " 0   title         91999 non-null  object \n",
      " 1   author        92000 non-null  object \n",
      " 2   desc          85772 non-null  object \n",
      " 3   genre         82359 non-null  object \n",
      " 4   img           89202 non-null  object \n",
      " 5   rating        92000 non-null  float64\n",
      " 6   totalratings  92000 non-null  int64  \n",
      "dtypes: float64(1), int64(1), object(5)\n",
      "memory usage: 4.9+ MB\n"
     ]
    }
   ],
   "source": [
    "df = pd.read_csv('data/books.csv',encoding=\"utf-8-sig\")\n",
    "df.info()"
   ]
  },
  {
   "cell_type": "markdown",
   "id": "44f4b0a1",
   "metadata": {},
   "source": [
    "# 3. Clean text columns from weird characters"
   ]
  },
  {
   "cell_type": "code",
   "execution_count": 27,
   "id": "60f27985",
   "metadata": {},
   "outputs": [],
   "source": [
    "text_cols = ['title','author', 'desc', 'genre']\n",
    "\n",
    "for col in text_cols:\n",
    "    # Remove non-ASCII characters and strip leading/trailing spaces\n",
    "    df[col] = df[col].str.replace(r'[^\\x00-\\x7F]+', '', regex=True).str.strip()"
   ]
  },
  {
   "cell_type": "markdown",
   "id": "5dc93871",
   "metadata": {},
   "source": [
    "# 4. Clean numeric columns"
   ]
  },
  {
   "cell_type": "code",
   "execution_count": 28,
   "id": "94c3cc4e",
   "metadata": {},
   "outputs": [],
   "source": [
    "numeric_cols = [ 'rating', 'totalratings']\n",
    "\n",
    "for col in numeric_cols:\n",
    "    df[col] = pd.to_numeric(df[col], errors='coerce')"
   ]
  },
  {
   "cell_type": "markdown",
   "id": "cf43b485",
   "metadata": {},
   "source": [
    "# 5. Handle missing values"
   ]
  },
  {
   "cell_type": "code",
   "execution_count": 29,
   "id": "9eede2d3",
   "metadata": {},
   "outputs": [],
   "source": [
    "# fill numeric values with the median of each column\n",
    "for col in numeric_cols:\n",
    "    df[col] = df[col].fillna(df[col].median())\n",
    "\n",
    "# fill categorical columns with empty string\n",
    "for col in text_cols:\n",
    "    df[col] = df[col].fillna('')"
   ]
  },
  {
   "cell_type": "markdown",
   "id": "c1b54d06",
   "metadata": {},
   "source": [
    "# 6. remove duplicate genres"
   ]
  },
  {
   "cell_type": "code",
   "execution_count": 30,
   "id": "dd3a66e7",
   "metadata": {},
   "outputs": [],
   "source": [
    "df['genre'] = df['genre'].apply(lambda x: ','.join(dict.fromkeys([g.strip() for g in x.split(',')])) if pd.notna(x) else '')"
   ]
  },
  {
   "cell_type": "markdown",
   "id": "751aff7e",
   "metadata": {},
   "source": [
    "# 7. Check data after cleaning"
   ]
  },
  {
   "cell_type": "code",
   "execution_count": 31,
   "id": "14993b13",
   "metadata": {},
   "outputs": [
    {
     "name": "stdout",
     "output_type": "stream",
     "text": [
      "<class 'pandas.core.frame.DataFrame'>\n",
      "RangeIndex: 92000 entries, 0 to 91999\n",
      "Data columns (total 7 columns):\n",
      " #   Column        Non-Null Count  Dtype  \n",
      "---  ------        --------------  -----  \n",
      " 0   title         92000 non-null  object \n",
      " 1   author        92000 non-null  object \n",
      " 2   desc          92000 non-null  object \n",
      " 3   genre         92000 non-null  object \n",
      " 4   img           89202 non-null  object \n",
      " 5   rating        92000 non-null  float64\n",
      " 6   totalratings  92000 non-null  int64  \n",
      "dtypes: float64(1), int64(1), object(5)\n",
      "memory usage: 4.9+ MB\n",
      "None\n"
     ]
    },
    {
     "data": {
      "text/html": [
       "<div>\n",
       "<style scoped>\n",
       "    .dataframe tbody tr th:only-of-type {\n",
       "        vertical-align: middle;\n",
       "    }\n",
       "\n",
       "    .dataframe tbody tr th {\n",
       "        vertical-align: top;\n",
       "    }\n",
       "\n",
       "    .dataframe thead th {\n",
       "        text-align: right;\n",
       "    }\n",
       "</style>\n",
       "<table border=\"1\" class=\"dataframe\">\n",
       "  <thead>\n",
       "    <tr style=\"text-align: right;\">\n",
       "      <th></th>\n",
       "      <th>title</th>\n",
       "      <th>author</th>\n",
       "      <th>desc</th>\n",
       "      <th>genre</th>\n",
       "      <th>img</th>\n",
       "      <th>rating</th>\n",
       "      <th>totalratings</th>\n",
       "    </tr>\n",
       "  </thead>\n",
       "  <tbody>\n",
       "    <tr>\n",
       "      <th>0</th>\n",
       "      <td>Under the Moons of Mars: New Adventures on Bar...</td>\n",
       "      <td>John Joseph Adams,Tamora Pierce,Joe R. Lansdal...</td>\n",
       "      <td>Celebrate 100 years of John Carter of Mars wit...</td>\n",
       "      <td>Science Fiction,Short Stories,Anthologies,Fant...</td>\n",
       "      <td>https://i.gr-assets.com/images/S/compressed.ph...</td>\n",
       "      <td>3.69</td>\n",
       "      <td>213</td>\n",
       "    </tr>\n",
       "    <tr>\n",
       "      <th>1</th>\n",
       "      <td>Tank Girl Collection</td>\n",
       "      <td>Alan C. Martin,Jamie Hewlett</td>\n",
       "      <td>In Visions of Booga, we join Tank Girl and her...</td>\n",
       "      <td>Sequential Art,Comics,Graphic Novels,Graphic N...</td>\n",
       "      <td>https://i.gr-assets.com/images/S/compressed.ph...</td>\n",
       "      <td>4.18</td>\n",
       "      <td>856</td>\n",
       "    </tr>\n",
       "    <tr>\n",
       "      <th>2</th>\n",
       "      <td>La dou zile distan</td>\n",
       "      <td>Marin Mlaicu-Hondrari</td>\n",
       "      <td>Vocea care rostete aceste poeme, unele ca nite...</td>\n",
       "      <td>European Literature,Romanian Literature,Poetry</td>\n",
       "      <td>https://i.gr-assets.com/images/S/compressed.ph...</td>\n",
       "      <td>4.32</td>\n",
       "      <td>25</td>\n",
       "    </tr>\n",
       "    <tr>\n",
       "      <th>3</th>\n",
       "      <td>Introduction to Algorithms</td>\n",
       "      <td>Thomas H. Cormen,Charles E. Leiserson,Ronald L...</td>\n",
       "      <td>This title covers a broad range of algorithms ...</td>\n",
       "      <td>Science,Computer Science,Programming,Algorithm...</td>\n",
       "      <td>https://i.gr-assets.com/images/S/compressed.ph...</td>\n",
       "      <td>4.34</td>\n",
       "      <td>8077</td>\n",
       "    </tr>\n",
       "    <tr>\n",
       "      <th>4</th>\n",
       "      <td>Hopeless Magic</td>\n",
       "      <td>Rachel Higginson</td>\n",
       "      <td>,YOU'VE BEEN LOOKING FOR SOMETHING MAGICAL... ...</td>\n",
       "      <td>Fantasy,Paranormal,Young Adult,Magic,Romance,P...</td>\n",
       "      <td>https://i.gr-assets.com/images/S/compressed.ph...</td>\n",
       "      <td>4.27</td>\n",
       "      <td>7566</td>\n",
       "    </tr>\n",
       "  </tbody>\n",
       "</table>\n",
       "</div>"
      ],
      "text/plain": [
       "                                               title  \\\n",
       "0  Under the Moons of Mars: New Adventures on Bar...   \n",
       "1                               Tank Girl Collection   \n",
       "2                                 La dou zile distan   \n",
       "3                         Introduction to Algorithms   \n",
       "4                                     Hopeless Magic   \n",
       "\n",
       "                                              author  \\\n",
       "0  John Joseph Adams,Tamora Pierce,Joe R. Lansdal...   \n",
       "1                       Alan C. Martin,Jamie Hewlett   \n",
       "2                              Marin Mlaicu-Hondrari   \n",
       "3  Thomas H. Cormen,Charles E. Leiserson,Ronald L...   \n",
       "4                                   Rachel Higginson   \n",
       "\n",
       "                                                desc  \\\n",
       "0  Celebrate 100 years of John Carter of Mars wit...   \n",
       "1  In Visions of Booga, we join Tank Girl and her...   \n",
       "2  Vocea care rostete aceste poeme, unele ca nite...   \n",
       "3  This title covers a broad range of algorithms ...   \n",
       "4  ,YOU'VE BEEN LOOKING FOR SOMETHING MAGICAL... ...   \n",
       "\n",
       "                                               genre  \\\n",
       "0  Science Fiction,Short Stories,Anthologies,Fant...   \n",
       "1  Sequential Art,Comics,Graphic Novels,Graphic N...   \n",
       "2     European Literature,Romanian Literature,Poetry   \n",
       "3  Science,Computer Science,Programming,Algorithm...   \n",
       "4  Fantasy,Paranormal,Young Adult,Magic,Romance,P...   \n",
       "\n",
       "                                                 img  rating  totalratings  \n",
       "0  https://i.gr-assets.com/images/S/compressed.ph...    3.69           213  \n",
       "1  https://i.gr-assets.com/images/S/compressed.ph...    4.18           856  \n",
       "2  https://i.gr-assets.com/images/S/compressed.ph...    4.32            25  \n",
       "3  https://i.gr-assets.com/images/S/compressed.ph...    4.34          8077  \n",
       "4  https://i.gr-assets.com/images/S/compressed.ph...    4.27          7566  "
      ]
     },
     "execution_count": 31,
     "metadata": {},
     "output_type": "execute_result"
    }
   ],
   "source": [
    "print(df.info())\n",
    "df.head()"
   ]
  },
  {
   "cell_type": "markdown",
   "id": "4270cb14",
   "metadata": {},
   "source": [
    "# 8. Save clean data into csv file"
   ]
  },
  {
   "cell_type": "code",
   "execution_count": 32,
   "id": "ebc8a2d4",
   "metadata": {},
   "outputs": [],
   "source": [
    "df.to_csv('data/cleaned_books.csv', index=False, encoding='utf-8')"
   ]
  }
 ],
 "metadata": {
  "kernelspec": {
   "display_name": "base",
   "language": "python",
   "name": "python3"
  },
  "language_info": {
   "codemirror_mode": {
    "name": "ipython",
    "version": 3
   },
   "file_extension": ".py",
   "mimetype": "text/x-python",
   "name": "python",
   "nbconvert_exporter": "python",
   "pygments_lexer": "ipython3",
   "version": "3.12.7"
  }
 },
 "nbformat": 4,
 "nbformat_minor": 5
}
